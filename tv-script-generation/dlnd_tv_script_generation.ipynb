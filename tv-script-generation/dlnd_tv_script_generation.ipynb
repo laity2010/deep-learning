{
 "cells": [
  {
   "cell_type": "markdown",
   "metadata": {},
   "source": [
    "# TV Script Generation\n",
    "In this project, you'll generate your own [Simpsons](https://en.wikipedia.org/wiki/The_Simpsons) TV scripts using RNNs.  You'll be using part of the [Simpsons dataset](https://www.kaggle.com/wcukierski/the-simpsons-by-the-data) of scripts from 27 seasons.  The Neural Network you'll build will generate a new TV script for a scene at [Moe's Tavern](https://simpsonswiki.com/wiki/Moe's_Tavern).\n",
    "## Get the Data\n",
    "The data is already provided for you.  You'll be using a subset of the original dataset.  It consists of only the scenes in Moe's Tavern.  This doesn't include other versions of the tavern, like \"Moe's Cavern\", \"Flaming Moe's\", \"Uncle Moe's Family Feed-Bag\", etc.."
   ]
  },
  {
   "cell_type": "code",
   "execution_count": 1,
   "metadata": {},
   "outputs": [],
   "source": [
    "\"\"\"\n",
    "DON'T MODIFY ANYTHING IN THIS CELL\n",
    "\"\"\"\n",
    "import helper\n",
    "\n",
    "data_dir = './data/simpsons/moes_tavern_lines.txt'\n",
    "text = helper.load_data(data_dir)\n",
    "# Ignore notice, since we don't use it for analysing the data\n",
    "text = text[81:]"
   ]
  },
  {
   "cell_type": "markdown",
   "metadata": {},
   "source": [
    "## Explore the Data\n",
    "Play around with `view_sentence_range` to view different parts of the data."
   ]
  },
  {
   "cell_type": "code",
   "execution_count": 2,
   "metadata": {},
   "outputs": [
    {
     "name": "stdout",
     "output_type": "stream",
     "text": [
      "Dataset Stats\n",
      "Roughly the number of unique words: 11492\n",
      "Number of scenes: 262\n",
      "Average number of sentences in each scene: 15.248091603053435\n",
      "Number of lines: 4257\n",
      "Average number of words in each line: 11.50434578341555\n",
      "\n",
      "The sentences 0 to 10:\n",
      "Moe_Szyslak: (INTO PHONE) Moe's Tavern. Where the elite meet to drink.\n",
      "Bart_Simpson: Eh, yeah, hello, is Mike there? Last name, Rotch.\n",
      "Moe_Szyslak: (INTO PHONE) Hold on, I'll check. (TO BARFLIES) Mike Rotch. Mike Rotch. Hey, has anybody seen Mike Rotch, lately?\n",
      "Moe_Szyslak: (INTO PHONE) Listen you little puke. One of these days I'm gonna catch you, and I'm gonna carve my name on your back with an ice pick.\n",
      "Moe_Szyslak: What's the matter Homer? You're not your normal effervescent self.\n",
      "Homer_Simpson: I got my problems, Moe. Give me another one.\n",
      "Moe_Szyslak: Homer, hey, you should not drink to forget your problems.\n",
      "Barney_Gumble: Yeah, you should only drink to enhance your social skills.\n",
      "\n",
      "\n"
     ]
    }
   ],
   "source": [
    "view_sentence_range = (0, 10)\n",
    "\n",
    "\"\"\"\n",
    "DON'T MODIFY ANYTHING IN THIS CELL\n",
    "\"\"\"\n",
    "import numpy as np\n",
    "\n",
    "print('Dataset Stats')\n",
    "print('Roughly the number of unique words: {}'.format(len({word: None for word in text.split()})))\n",
    "scenes = text.split('\\n\\n')\n",
    "print('Number of scenes: {}'.format(len(scenes)))\n",
    "sentence_count_scene = [scene.count('\\n') for scene in scenes]\n",
    "print('Average number of sentences in each scene: {}'.format(np.average(sentence_count_scene)))\n",
    "\n",
    "sentences = [sentence for scene in scenes for sentence in scene.split('\\n')]\n",
    "print('Number of lines: {}'.format(len(sentences)))\n",
    "word_count_sentence = [len(sentence.split()) for sentence in sentences]\n",
    "print('Average number of words in each line: {}'.format(np.average(word_count_sentence)))\n",
    "\n",
    "print()\n",
    "print('The sentences {} to {}:'.format(*view_sentence_range))\n",
    "print('\\n'.join(text.split('\\n')[view_sentence_range[0]:view_sentence_range[1]]))"
   ]
  },
  {
   "cell_type": "markdown",
   "metadata": {},
   "source": [
    "## Implement Preprocessing Functions\n",
    "The first thing to do to any dataset is preprocessing.  Implement the following preprocessing functions below:\n",
    "- Lookup Table\n",
    "- Tokenize Punctuation\n",
    "\n",
    "### Lookup Table\n",
    "To create a word embedding, you first need to transform the words to ids.  In this function, create two dictionaries:\n",
    "- Dictionary to go from the words to an id, we'll call `vocab_to_int`\n",
    "- Dictionary to go from the id to word, we'll call `int_to_vocab`\n",
    "\n",
    "Return these dictionaries in the following tuple `(vocab_to_int, int_to_vocab)`"
   ]
  },
  {
   "cell_type": "code",
   "execution_count": 3,
   "metadata": {},
   "outputs": [
    {
     "name": "stdout",
     "output_type": "stream",
     "text": [
      "Tests Passed\n"
     ]
    }
   ],
   "source": [
    "import numpy as np\n",
    "import problem_unittests as tests\n",
    "\n",
    "def create_lookup_tables(text):\n",
    "    \"\"\"\n",
    "    Create lookup tables for vocabulary\n",
    "    :param text: The text of tv scripts split into words\n",
    "    :return: A tuple of dicts (vocab_to_int, int_to_vocab)\n",
    "    \"\"\"\n",
    "    vocab = sorted(set(text))\n",
    "    vocab_to_int = {c: ix for ix, c in enumerate(vocab)}\n",
    "    int_to_vocab = dict(enumerate(vocab))\n",
    "    # TODO: Implement Function\n",
    "    return vocab_to_int, int_to_vocab\n",
    "\n",
    "\n",
    "\"\"\"\n",
    "DON'T MODIFY ANYTHING IN THIS CELL THAT IS BELOW THIS LINE\n",
    "\"\"\"\n",
    "tests.test_create_lookup_tables(create_lookup_tables)"
   ]
  },
  {
   "cell_type": "markdown",
   "metadata": {},
   "source": [
    "### Tokenize Punctuation\n",
    "We'll be splitting the script into a word array using spaces as delimiters.  However, punctuations like periods and exclamation marks make it hard for the neural network to distinguish between the word \"bye\" and \"bye!\".\n",
    "\n",
    "Implement the function `token_lookup` to return a dict that will be used to tokenize symbols like \"!\" into \"||Exclamation_Mark||\".  Create a dictionary for the following symbols where the symbol is the key and value is the token:\n",
    "- Period ( . )\n",
    "- Comma ( , )\n",
    "- Quotation Mark ( \" )\n",
    "- Semicolon ( ; )\n",
    "- Exclamation mark ( ! )\n",
    "- Question mark ( ? )\n",
    "- Left Parentheses ( ( )\n",
    "- Right Parentheses ( ) )\n",
    "- Dash ( -- )\n",
    "- Return ( \\n )\n",
    "\n",
    "This dictionary will be used to token the symbols and add the delimiter (space) around it.  This separates the symbols as it's own word, making it easier for the neural network to predict on the next word. Make sure you don't use a token that could be confused as a word. Instead of using the token \"dash\", try using something like \"||dash||\"."
   ]
  },
  {
   "cell_type": "code",
   "execution_count": 4,
   "metadata": {},
   "outputs": [
    {
     "name": "stdout",
     "output_type": "stream",
     "text": [
      "Tests Passed\n"
     ]
    }
   ],
   "source": [
    "def token_lookup():\n",
    "    \"\"\"\n",
    "    Generate a dict to turn punctuation into a token.\n",
    "    :return: Tokenize dictionary where the key is the punctuation and the value is the token\n",
    "    \"\"\"\n",
    "    symbols = ['.', ',', '\"', ';', '!', '?', '(', ')', '--', '\\n']\n",
    "    name = [\n",
    "        'Period', 'Comma', 'QuotationMark', 'Semicolon', 'Exclamationmark', 'Questionmark',\n",
    "        'LeftParentheses', 'RightParentheses', 'Dash', 'Return'\n",
    "    ]\n",
    "    sdict = {s: '||' + name + '||' for s, name in zip(symbols, [_.lower() for _ in name])}\n",
    "    return sdict\n",
    "\n",
    "\"\"\"\n",
    "DON'T MODIFY ANYTHING IN THIS CELL THAT IS BELOW THIS LINE\n",
    "\"\"\"\n",
    "tests.test_tokenize(token_lookup)"
   ]
  },
  {
   "cell_type": "markdown",
   "metadata": {},
   "source": [
    "## Preprocess all the data and save it\n",
    "Running the code cell below will preprocess all the data and save it to file."
   ]
  },
  {
   "cell_type": "code",
   "execution_count": 5,
   "metadata": {},
   "outputs": [],
   "source": [
    "\"\"\"\n",
    "DON'T MODIFY ANYTHING IN THIS CELL\n",
    "\"\"\"\n",
    "# Preprocess Training, Validation, and Testing Data\n",
    "helper.preprocess_and_save_data(data_dir, token_lookup, create_lookup_tables)"
   ]
  },
  {
   "cell_type": "markdown",
   "metadata": {},
   "source": [
    "# Check Point\n",
    "This is your first checkpoint. If you ever decide to come back to this notebook or have to restart the notebook, you can start from here. The preprocessed data has been saved to disk."
   ]
  },
  {
   "cell_type": "code",
   "execution_count": 32,
   "metadata": {},
   "outputs": [],
   "source": [
    "\"\"\"\n",
    "DON'T MODIFY ANYTHING IN THIS CELL\n",
    "\"\"\"\n",
    "import helper\n",
    "import numpy as np\n",
    "import problem_unittests as tests\n",
    "\n",
    "int_text, vocab_to_int, int_to_vocab, token_dict = helper.load_preprocess()"
   ]
  },
  {
   "cell_type": "markdown",
   "metadata": {},
   "source": [
    "## Build the Neural Network\n",
    "You'll build the components necessary to build a RNN by implementing the following functions below:\n",
    "- get_inputs\n",
    "- get_init_cell\n",
    "- get_embed\n",
    "- build_rnn\n",
    "- build_nn\n",
    "- get_batches\n",
    "\n",
    "### Check the Version of TensorFlow and Access to GPU"
   ]
  },
  {
   "cell_type": "code",
   "execution_count": 33,
   "metadata": {},
   "outputs": [
    {
     "name": "stdout",
     "output_type": "stream",
     "text": [
      "TensorFlow Version: 1.1.0\n"
     ]
    },
    {
     "name": "stderr",
     "output_type": "stream",
     "text": [
      "/Users/daisor/tf1.1/lib/python3.6/site-packages/ipykernel_launcher.py:14: UserWarning: No GPU found. Please use a GPU to train your neural network.\n",
      "  \n"
     ]
    }
   ],
   "source": [
    "\"\"\"\n",
    "DON'T MODIFY ANYTHING IN THIS CELL\n",
    "\"\"\"\n",
    "from distutils.version import LooseVersion\n",
    "import warnings\n",
    "import tensorflow as tf\n",
    "\n",
    "# Check TensorFlow Version\n",
    "assert LooseVersion(tf.__version__) >= LooseVersion('1.0'), 'Please use TensorFlow version 1.0 or newer'\n",
    "print('TensorFlow Version: {}'.format(tf.__version__))\n",
    "\n",
    "# Check for a GPU\n",
    "if not tf.test.gpu_device_name():\n",
    "    warnings.warn('No GPU found. Please use a GPU to train your neural network.')\n",
    "else:\n",
    "    print('Default GPU Device: {}'.format(tf.test.gpu_device_name()))"
   ]
  },
  {
   "cell_type": "markdown",
   "metadata": {},
   "source": [
    "### Input\n",
    "Implement the `get_inputs()` function to create TF Placeholders for the Neural Network.  It should create the following placeholders:\n",
    "- Input text placeholder named \"input\" using the [TF Placeholder](https://www.tensorflow.org/api_docs/python/tf/placeholder) `name` parameter.\n",
    "- Targets placeholder\n",
    "- Learning Rate placeholder\n",
    "\n",
    "Return the placeholders in the following tuple `(Input, Targets, LearningRate)`"
   ]
  },
  {
   "cell_type": "code",
   "execution_count": 34,
   "metadata": {},
   "outputs": [
    {
     "name": "stdout",
     "output_type": "stream",
     "text": [
      "Tests Passed\n"
     ]
    }
   ],
   "source": [
    "def get_inputs():\n",
    "    \"\"\"\n",
    "    Create TF Placeholders for input, targets, and learning rate.\n",
    "    :return: Tuple (input, targets, learning rate)\n",
    "    \"\"\"\n",
    "    input_text = tf.placeholder(tf.int32, shape=[None, None], name='input')\n",
    "    targets = tf.placeholder(tf.int32, shape=[None, None], name='targets')\n",
    "    lr = tf.placeholder(tf.float32)\n",
    "    return input_text, targets, lr\n",
    "\n",
    "\"\"\"\n",
    "DON'T MODIFY ANYTHING IN THIS CELL THAT IS BELOW THIS LINE\n",
    "\"\"\"\n",
    "tests.test_get_inputs(get_inputs)"
   ]
  },
  {
   "cell_type": "markdown",
   "metadata": {},
   "source": [
    "### Build RNN Cell and Initialize\n",
    "Stack one or more [`BasicLSTMCells`](https://www.tensorflow.org/api_docs/python/tf/contrib/rnn/BasicLSTMCell) in a [`MultiRNNCell`](https://www.tensorflow.org/api_docs/python/tf/contrib/rnn/MultiRNNCell).\n",
    "- The Rnn size should be set using `rnn_size`\n",
    "- Initalize Cell State using the MultiRNNCell's [`zero_state()`](https://www.tensorflow.org/api_docs/python/tf/contrib/rnn/MultiRNNCell#zero_state) function\n",
    "    - Apply the name \"initial_state\" to the initial state using [`tf.identity()`](https://www.tensorflow.org/api_docs/python/tf/identity)\n",
    "\n",
    "Return the cell and initial state in the following tuple `(Cell, InitialState)`"
   ]
  },
  {
   "cell_type": "code",
   "execution_count": 35,
   "metadata": {},
   "outputs": [
    {
     "name": "stdout",
     "output_type": "stream",
     "text": [
      "Tests Passed\n"
     ]
    }
   ],
   "source": [
    "def get_init_cell(batch_size, rnn_size):\n",
    "    \"\"\"\n",
    "    Create an RNN Cell and initialize it.\n",
    "    :param batch_size: Size of batches\n",
    "    :param rnn_size: Size of RNNs\n",
    "    :return: Tuple (cell, initialize state)\n",
    "    \"\"\"\n",
    "    def build_cell(rnn_size):\n",
    "        # 基本lstm单元，只需要指定权重数量即可，\n",
    "        lstm = tf.contrib.rnn.BasicLSTMCell(rnn_size)\n",
    "        return lstm\n",
    "\n",
    "        # dropout 单元\n",
    "        # drop = tf.contrib.rnn.DropoutWrapper(lstm, output_keep_prob=keep_prob)\n",
    "        # return drop\n",
    "        \n",
    "    # 堆叠lstm，共有num_lstm_layer层，每层有一个基本lstm单元和一个dropout\n",
    "    cell = tf.contrib.rnn.MultiRNNCell([build_cell(rnn_size) for _ in range(2)])\n",
    "\n",
    "    # 长期状态单元\n",
    "    initial_state = cell.zero_state(batch_size=batch_size, dtype=tf.float32)\n",
    "    initial_state = tf.identity(initial_state, name='initial_state')\n",
    "\n",
    "    return cell, initial_state\n",
    "\n",
    "\n",
    "\"\"\"\n",
    "DON'T MODIFY ANYTHING IN THIS CELL THAT IS BELOW THIS LINE\n",
    "\"\"\"\n",
    "tests.test_get_init_cell(get_init_cell)"
   ]
  },
  {
   "cell_type": "markdown",
   "metadata": {},
   "source": [
    "### Word Embedding\n",
    "Apply embedding to `input_data` using TensorFlow.  Return the embedded sequence."
   ]
  },
  {
   "cell_type": "code",
   "execution_count": 36,
   "metadata": {},
   "outputs": [
    {
     "name": "stdout",
     "output_type": "stream",
     "text": [
      "Tests Passed\n"
     ]
    }
   ],
   "source": [
    "def get_embed(input_data, vocab_size, embed_dim):\n",
    "    \"\"\"\n",
    "    Create embedding for <input_data>.\n",
    "    :param input_data: TF placeholder for text input.\n",
    "    :param vocab_size: Number of words in vocabulary.\n",
    "    :param embed_dim: Number of embedding dimensions\n",
    "    :return: Embedded input.\n",
    "    \"\"\"\n",
    "    embedding = tf.Variable(tf.random_uniform(shape=[vocab_size, embed_dim], minval=-1, maxval=1))\n",
    "    embed = tf.nn.embedding_lookup(embedding, input_data)\n",
    "    return embed\n",
    "\n",
    "\n",
    "\"\"\"\n",
    "DON'T MODIFY ANYTHING IN THIS CELL THAT IS BELOW THIS LINE\n",
    "\"\"\"\n",
    "tests.test_get_embed(get_embed)"
   ]
  },
  {
   "cell_type": "markdown",
   "metadata": {},
   "source": [
    "### Build RNN\n",
    "You created a RNN Cell in the `get_init_cell()` function.  Time to use the cell to create a RNN.\n",
    "- Build the RNN using the [`tf.nn.dynamic_rnn()`](https://www.tensorflow.org/api_docs/python/tf/nn/dynamic_rnn)\n",
    " - Apply the name \"final_state\" to the final state using [`tf.identity()`](https://www.tensorflow.org/api_docs/python/tf/identity)\n",
    "\n",
    "Return the outputs and final_state state in the following tuple `(Outputs, FinalState)` "
   ]
  },
  {
   "cell_type": "code",
   "execution_count": 37,
   "metadata": {},
   "outputs": [
    {
     "name": "stdout",
     "output_type": "stream",
     "text": [
      "Tests Passed\n"
     ]
    }
   ],
   "source": [
    "def build_rnn(cell, inputs):\n",
    "    \"\"\"\n",
    "    Create a RNN using a RNN Cell\n",
    "    :param cell: RNN Cell\n",
    "    :param inputs: Input text data\n",
    "    :return: Tuple (Outputs, Final State)\n",
    "    \"\"\"\n",
    "    outputs, final_state = tf.nn.dynamic_rnn(\n",
    "        cell=cell, inputs=inputs,\n",
    "        #initial_state=initial_state\n",
    "        dtype=tf.float32,\n",
    "    )\n",
    "    final_state = tf.identity(final_state, name='final_state')\n",
    "#     print('build_rnn type:{} shape:{}'.format(type(final_state), final_state.get_shape()))\n",
    "    return outputs, final_state\n",
    "\n",
    "\"\"\"\n",
    "DON'T MODIFY ANYTHING IN THIS CELL THAT IS BELOW THIS LINE\n",
    "\"\"\"\n",
    "tests.test_build_rnn(build_rnn)"
   ]
  },
  {
   "cell_type": "markdown",
   "metadata": {},
   "source": [
    "### Build the Neural Network\n",
    "Apply the functions you implemented above to:\n",
    "- Apply embedding to `input_data` using your `get_embed(input_data, vocab_size, embed_dim)` function.\n",
    "- Build RNN using `cell` and your `build_rnn(cell, inputs)` function.\n",
    "- Apply a fully connected layer with a linear activation and `vocab_size` as the number of outputs.\n",
    "\n",
    "Return the logits and final state in the following tuple (Logits, FinalState) "
   ]
  },
  {
   "cell_type": "code",
   "execution_count": 38,
   "metadata": {},
   "outputs": [
    {
     "name": "stdout",
     "output_type": "stream",
     "text": [
      "Tests Passed\n"
     ]
    }
   ],
   "source": [
    "def build_nn(cell, rnn_size, input_data, vocab_size, embed_dim):\n",
    "    \"\"\"\n",
    "    Build part of the neural network\n",
    "    :param cell: RNN cell\n",
    "    :param rnn_size: Size of rnns\n",
    "    :param input_data: Input data\n",
    "    :param vocab_size: Vocabulary size\n",
    "    :param embed_dim: Number of embedding dimensions\n",
    "    :return: Tuple (Logits, FinalState)\n",
    "    \"\"\"\n",
    "    embed = get_embed(input_data, vocab_size, embed_dim)\n",
    "    outputs, final_state = build_rnn(cell=cell, inputs=embed)\n",
    "    logits = tf.contrib.layers.fully_connected(inputs=outputs, num_outputs=vocab_size)\n",
    "\n",
    "    return (logits, final_state)\n",
    "\n",
    "\"\"\"\n",
    "DON'T MODIFY ANYTHING IN THIS CELL THAT IS BELOW THIS LINE\n",
    "\"\"\"\n",
    "tests.test_build_nn(build_nn)"
   ]
  },
  {
   "cell_type": "markdown",
   "metadata": {},
   "source": [
    "### Batches\n",
    "Implement `get_batches` to create batches of input and targets using `int_text`.  The batches should be a Numpy array with the shape `(number of batches, 2, batch size, sequence length)`. Each batch contains two elements:\n",
    "- The first element is a single batch of **input** with the shape `[batch size, sequence length]`\n",
    "- The second element is a single batch of **targets** with the shape `[batch size, sequence length]`\n",
    "\n",
    "If you can't fill the last batch with enough data, drop the last batch.\n",
    "\n",
    "For exmple, `get_batches([1, 2, 3, 4, 5, 6, 7, 8, 9, 10, 11, 12, 13, 14, 15, 16, 17, 18, 19, 20], 3, 2)` would return a Numpy array of the following:\n",
    "```\n",
    "[\n",
    "  # First Batch\n",
    "  [\n",
    "    # Batch of Input\n",
    "    [[ 1  2], [ 7  8], [13 14]]\n",
    "    # Batch of targets\n",
    "    [[ 2  3], [ 8  9], [14 15]]\n",
    "  ]\n",
    "\n",
    "  # Second Batch\n",
    "  [\n",
    "    # Batch of Input\n",
    "    [[ 3  4], [ 9 10], [15 16]]\n",
    "    # Batch of targets\n",
    "    [[ 4  5], [10 11], [16 17]]\n",
    "  ]\n",
    "\n",
    "  # Third Batch\n",
    "  [\n",
    "    # Batch of Input\n",
    "    [[ 5  6], [11 12], [17 18]]\n",
    "    # Batch of targets\n",
    "    [[ 6  7], [12 13], [18  1]]\n",
    "  ]\n",
    "]\n",
    "```\n",
    "\n",
    "Notice that the last target value in the last batch is the first input value of the first batch. In this case, `1`. This is a common technique used when creating sequence batches, although it is rather unintuitive."
   ]
  },
  {
   "cell_type": "code",
   "execution_count": 39,
   "metadata": {},
   "outputs": [
    {
     "name": "stdout",
     "output_type": "stream",
     "text": [
      "Tests Passed\n"
     ]
    }
   ],
   "source": [
    "import numpy as np\n",
    "import problem_unittests as tests\n",
    "\n",
    "def get_batches(int_text, batches_size, seq_length):\n",
    "    \"\"\"\n",
    "    Return batches of input and target\n",
    "    :param int_text: Text with the words replaced by their ids\n",
    "    :param batch_size: The size of batch\n",
    "    :param seq_length: The length of sequence\n",
    "    :return: Batches as a Numpy array\n",
    "    \"\"\"\n",
    "    arr = int_text\n",
    "    # total_size=len(arr)#col*batches*seq_length\n",
    "    col = len(arr) // (batches_size * seq_length)\n",
    "    total_size = col * batches_size * seq_length\n",
    "    xarr = np.array(arr)[:total_size]\n",
    "    yarr = np.roll(xarr, -1)\n",
    "\n",
    "    yarr = np.array(np.hsplit(yarr.reshape(batches_size, col * seq_length), col))\n",
    "    xarr = np.array(np.hsplit(xarr.reshape(batches_size, col * seq_length), col))\n",
    "\n",
    "    xy = np.zeros(total_size * 2, dtype=np.int).reshape(col, 2, batches_size, seq_length)\n",
    "\n",
    "    for c in range(col):\n",
    "        xy[c, 0] = xarr[c]\n",
    "        xy[c, 1] = yarr[c]\n",
    "\n",
    "#     print(\"arr.shape\", len(arr))\n",
    "#     print(\"xarr.shape\", xarr.shape)\n",
    "#     print(\"yarr.shape\", yarr.shape)\n",
    "#     print(\"xy.shape{},size:{}\".format(xy.shape, xy.size))\n",
    "    return xy\n",
    "\n",
    "\"\"\"\n",
    "DON'T MODIFY ANYTHING IN THIS CELL THAT IS BELOW THIS LINE\n",
    "\"\"\"\n",
    "tests.test_get_batches(get_batches)"
   ]
  },
  {
   "cell_type": "markdown",
   "metadata": {},
   "source": [
    "## Neural Network Training\n",
    "### Hyperparameters\n",
    "Tune the following parameters:\n",
    "\n",
    "- Set `num_epochs` to the number of epochs.\n",
    "- Set `batch_size` to the batch size.\n",
    "- Set `rnn_size` to the size of the RNNs.\n",
    "- Set `embed_dim` to the size of the embedding.\n",
    "- Set `seq_length` to the length of sequence.\n",
    "- Set `learning_rate` to the learning rate.\n",
    "- Set `show_every_n_batches` to the number of batches the neural network should print progress."
   ]
  },
  {
   "cell_type": "code",
   "execution_count": 40,
   "metadata": {},
   "outputs": [],
   "source": [
    "# Number of Epochs\n",
    "num_epochs = 500\n",
    "# Batch Size\n",
    "batch_size = 512\n",
    "# RNN Size\n",
    "rnn_size = 256\n",
    "# Embedding Dimension Size\n",
    "embed_dim = 300\n",
    "# Sequence Length\n",
    "seq_length = 5\n",
    "# Learning Rate\n",
    "learning_rate = .01\n",
    "# Show stats for every n number of batches\n",
    "show_every_n_batches = 50\n",
    "\n",
    "\"\"\"\n",
    "DON'T MODIFY ANYTHING IN THIS CELL THAT IS BELOW THIS LINE\n",
    "\"\"\"\n",
    "save_dir = './save'"
   ]
  },
  {
   "cell_type": "markdown",
   "metadata": {},
   "source": [
    "### Build the Graph\n",
    "Build the graph using the neural network you implemented."
   ]
  },
  {
   "cell_type": "code",
   "execution_count": 41,
   "metadata": {},
   "outputs": [],
   "source": [
    "\"\"\"\n",
    "DON'T MODIFY ANYTHING IN THIS CELL\n",
    "\"\"\"\n",
    "from tensorflow.contrib import seq2seq\n",
    "\n",
    "train_graph = tf.Graph()\n",
    "with train_graph.as_default():\n",
    "    vocab_size = len(int_to_vocab)\n",
    "    input_text, targets, lr = get_inputs()\n",
    "    input_data_shape = tf.shape(input_text)\n",
    "    cell, initial_state = get_init_cell(input_data_shape[0], rnn_size)\n",
    "    logits, final_state = build_nn(cell, rnn_size, input_text, vocab_size, embed_dim)\n",
    "\n",
    "    # Probabilities for generating words\n",
    "    probs = tf.nn.softmax(logits, name='probs')\n",
    "\n",
    "    # Loss function\n",
    "    cost = seq2seq.sequence_loss(\n",
    "        logits,\n",
    "        targets,\n",
    "        tf.ones([input_data_shape[0], input_data_shape[1]]))\n",
    "\n",
    "    # Optimizer\n",
    "    optimizer = tf.train.AdamOptimizer(lr)\n",
    "\n",
    "    # Gradient Clipping\n",
    "    gradients = optimizer.compute_gradients(cost)\n",
    "    capped_gradients = [(tf.clip_by_value(grad, -1., 1.), var) for grad, var in gradients if grad is not None]\n",
    "    train_op = optimizer.apply_gradients(capped_gradients)"
   ]
  },
  {
   "cell_type": "markdown",
   "metadata": {},
   "source": [
    "## Train\n",
    "Train the neural network on the preprocessed data.  If you have a hard time getting a good loss, check the [forums](https://discussions.udacity.com/) to see if anyone is having the same problem."
   ]
  },
  {
   "cell_type": "code",
   "execution_count": 42,
   "metadata": {},
   "outputs": [
    {
     "name": "stdout",
     "output_type": "stream",
     "text": [
      "Epoch   0 Batch    0/26   train_loss = 8.822\n",
      "Epoch   1 Batch   24/26   train_loss = 5.815\n",
      "Epoch   3 Batch   22/26   train_loss = 5.422\n",
      "Epoch   5 Batch   20/26   train_loss = 5.143\n",
      "Epoch   7 Batch   18/26   train_loss = 5.071\n",
      "Epoch   9 Batch   16/26   train_loss = 4.949\n",
      "Epoch  11 Batch   14/26   train_loss = 4.740\n",
      "Epoch  13 Batch   12/26   train_loss = 4.671\n",
      "Epoch  15 Batch   10/26   train_loss = 4.515\n",
      "Epoch  17 Batch    8/26   train_loss = 4.297\n",
      "Epoch  19 Batch    6/26   train_loss = 4.238\n",
      "Epoch  21 Batch    4/26   train_loss = 4.199\n",
      "Epoch  23 Batch    2/26   train_loss = 3.972\n",
      "Epoch  25 Batch    0/26   train_loss = 3.725\n",
      "Epoch  26 Batch   24/26   train_loss = 3.757\n",
      "Epoch  28 Batch   22/26   train_loss = 3.648\n",
      "Epoch  30 Batch   20/26   train_loss = 3.387\n",
      "Epoch  32 Batch   18/26   train_loss = 3.394\n",
      "Epoch  34 Batch   16/26   train_loss = 3.421\n",
      "Epoch  36 Batch   14/26   train_loss = 3.224\n",
      "Epoch  38 Batch   12/26   train_loss = 3.244\n",
      "Epoch  40 Batch   10/26   train_loss = 3.111\n",
      "Epoch  42 Batch    8/26   train_loss = 3.069\n",
      "Epoch  44 Batch    6/26   train_loss = 3.075\n",
      "Epoch  46 Batch    4/26   train_loss = 3.124\n",
      "Epoch  48 Batch    2/26   train_loss = 3.078\n",
      "Epoch  50 Batch    0/26   train_loss = 2.970\n",
      "Epoch  51 Batch   24/26   train_loss = 3.134\n",
      "Epoch  53 Batch   22/26   train_loss = 3.093\n",
      "Epoch  55 Batch   20/26   train_loss = 2.997\n",
      "Epoch  57 Batch   18/26   train_loss = 3.049\n",
      "Epoch  59 Batch   16/26   train_loss = 3.102\n",
      "Epoch  61 Batch   14/26   train_loss = 3.000\n",
      "Epoch  63 Batch   12/26   train_loss = 3.053\n",
      "Epoch  65 Batch   10/26   train_loss = 2.980\n",
      "Epoch  67 Batch    8/26   train_loss = 2.912\n",
      "Epoch  69 Batch    6/26   train_loss = 2.968\n",
      "Epoch  71 Batch    4/26   train_loss = 3.037\n",
      "Epoch  73 Batch    2/26   train_loss = 3.006\n",
      "Epoch  75 Batch    0/26   train_loss = 2.903\n",
      "Epoch  76 Batch   24/26   train_loss = 3.076\n",
      "Epoch  78 Batch   22/26   train_loss = 3.027\n",
      "Epoch  80 Batch   20/26   train_loss = 2.945\n",
      "Epoch  82 Batch   18/26   train_loss = 3.005\n",
      "Epoch  84 Batch   16/26   train_loss = 3.075\n",
      "Epoch  86 Batch   14/26   train_loss = 2.976\n",
      "Epoch  88 Batch   12/26   train_loss = 3.038\n",
      "Epoch  90 Batch   10/26   train_loss = 2.972\n",
      "Epoch  92 Batch    8/26   train_loss = 2.908\n",
      "Epoch  94 Batch    6/26   train_loss = 2.968\n",
      "Epoch  96 Batch    4/26   train_loss = 3.036\n",
      "Epoch  98 Batch    2/26   train_loss = 3.003\n",
      "Epoch 100 Batch    0/26   train_loss = 2.903\n",
      "Epoch 101 Batch   24/26   train_loss = 3.073\n",
      "Epoch 103 Batch   22/26   train_loss = 3.025\n",
      "Epoch 105 Batch   20/26   train_loss = 2.943\n",
      "Epoch 107 Batch   18/26   train_loss = 3.001\n",
      "Epoch 109 Batch   16/26   train_loss = 3.070\n",
      "Epoch 111 Batch   14/26   train_loss = 2.971\n",
      "Epoch 113 Batch   12/26   train_loss = 3.034\n",
      "Epoch 115 Batch   10/26   train_loss = 3.142\n",
      "Epoch 117 Batch    8/26   train_loss = 4.621\n",
      "Epoch 119 Batch    6/26   train_loss = 4.170\n",
      "Epoch 121 Batch    4/26   train_loss = 3.832\n",
      "Epoch 123 Batch    2/26   train_loss = 3.494\n",
      "Epoch 125 Batch    0/26   train_loss = 3.222\n",
      "Epoch 126 Batch   24/26   train_loss = 3.263\n",
      "Epoch 128 Batch   22/26   train_loss = 3.181\n",
      "Epoch 130 Batch   20/26   train_loss = 3.033\n",
      "Epoch 132 Batch   18/26   train_loss = 3.083\n",
      "Epoch 134 Batch   16/26   train_loss = 3.123\n",
      "Epoch 136 Batch   14/26   train_loss = 2.981\n",
      "Epoch 138 Batch   12/26   train_loss = 3.068\n",
      "Epoch 140 Batch   10/26   train_loss = 2.970\n",
      "Epoch 142 Batch    8/26   train_loss = 2.886\n",
      "Epoch 144 Batch    6/26   train_loss = 2.925\n",
      "Epoch 146 Batch    4/26   train_loss = 3.008\n",
      "Epoch 148 Batch    2/26   train_loss = 2.968\n",
      "Epoch 150 Batch    0/26   train_loss = 2.867\n",
      "Epoch 151 Batch   24/26   train_loss = 3.030\n",
      "Epoch 153 Batch   22/26   train_loss = 2.994\n",
      "Epoch 155 Batch   20/26   train_loss = 2.913\n",
      "Epoch 157 Batch   18/26   train_loss = 2.986\n",
      "Epoch 159 Batch   16/26   train_loss = 3.059\n",
      "Epoch 161 Batch   14/26   train_loss = 2.939\n",
      "Epoch 163 Batch   12/26   train_loss = 3.030\n",
      "Epoch 165 Batch   10/26   train_loss = 2.949\n",
      "Epoch 167 Batch    8/26   train_loss = 2.870\n",
      "Epoch 169 Batch    6/26   train_loss = 2.909\n",
      "Epoch 171 Batch    4/26   train_loss = 2.996\n",
      "Epoch 173 Batch    2/26   train_loss = 2.957\n",
      "Epoch 175 Batch    0/26   train_loss = 2.858\n",
      "Epoch 176 Batch   24/26   train_loss = 3.022\n",
      "Epoch 178 Batch   22/26   train_loss = 2.984\n",
      "Epoch 180 Batch   20/26   train_loss = 2.907\n",
      "Epoch 182 Batch   18/26   train_loss = 2.980\n",
      "Epoch 184 Batch   16/26   train_loss = 3.053\n",
      "Epoch 186 Batch   14/26   train_loss = 2.932\n",
      "Epoch 188 Batch   12/26   train_loss = 3.025\n",
      "Epoch 190 Batch   10/26   train_loss = 2.945\n",
      "Epoch 192 Batch    8/26   train_loss = 2.862\n",
      "Epoch 194 Batch    6/26   train_loss = 2.905\n",
      "Epoch 196 Batch    4/26   train_loss = 2.994\n",
      "Epoch 198 Batch    2/26   train_loss = 2.956\n",
      "Epoch 200 Batch    0/26   train_loss = 2.863\n",
      "Epoch 201 Batch   24/26   train_loss = 3.083\n",
      "Epoch 203 Batch   22/26   train_loss = 4.084\n",
      "Epoch 205 Batch   20/26   train_loss = 4.328\n",
      "Epoch 207 Batch   18/26   train_loss = 3.976\n",
      "Epoch 209 Batch   16/26   train_loss = 3.678\n",
      "Epoch 211 Batch   14/26   train_loss = 3.338\n",
      "Epoch 213 Batch   12/26   train_loss = 3.294\n",
      "Epoch 215 Batch   10/26   train_loss = 3.075\n",
      "Epoch 217 Batch    8/26   train_loss = 2.960\n",
      "Epoch 219 Batch    6/26   train_loss = 2.962\n",
      "Epoch 221 Batch    4/26   train_loss = 3.027\n",
      "Epoch 223 Batch    2/26   train_loss = 2.991\n",
      "Epoch 225 Batch    0/26   train_loss = 2.874\n",
      "Epoch 226 Batch   24/26   train_loss = 3.017\n",
      "Epoch 228 Batch   22/26   train_loss = 3.003\n",
      "Epoch 230 Batch   20/26   train_loss = 2.916\n",
      "Epoch 232 Batch   18/26   train_loss = 2.996\n",
      "Epoch 234 Batch   16/26   train_loss = 3.051\n",
      "Epoch 236 Batch   14/26   train_loss = 2.942\n",
      "Epoch 238 Batch   12/26   train_loss = 3.017\n",
      "Epoch 240 Batch   10/26   train_loss = 2.927\n",
      "Epoch 242 Batch    8/26   train_loss = 2.862\n",
      "Epoch 244 Batch    6/26   train_loss = 2.893\n",
      "Epoch 246 Batch    4/26   train_loss = 2.984\n",
      "Epoch 248 Batch    2/26   train_loss = 2.960\n",
      "Epoch 250 Batch    0/26   train_loss = 2.850\n",
      "Epoch 251 Batch   24/26   train_loss = 2.995\n",
      "Epoch 253 Batch   22/26   train_loss = 2.985\n",
      "Epoch 255 Batch   20/26   train_loss = 2.903\n",
      "Epoch 257 Batch   18/26   train_loss = 2.983\n",
      "Epoch 259 Batch   16/26   train_loss = 3.041\n",
      "Epoch 261 Batch   14/26   train_loss = 2.933\n",
      "Epoch 263 Batch   12/26   train_loss = 3.007\n",
      "Epoch 265 Batch   10/26   train_loss = 2.919\n",
      "Epoch 267 Batch    8/26   train_loss = 2.855\n",
      "Epoch 269 Batch    6/26   train_loss = 2.887\n",
      "Epoch 271 Batch    4/26   train_loss = 2.978\n",
      "Epoch 273 Batch    2/26   train_loss = 2.954\n",
      "Epoch 275 Batch    0/26   train_loss = 2.847\n",
      "Epoch 276 Batch   24/26   train_loss = 2.993\n",
      "Epoch 278 Batch   22/26   train_loss = 2.982\n",
      "Epoch 280 Batch   20/26   train_loss = 2.902\n",
      "Epoch 282 Batch   18/26   train_loss = 2.981\n",
      "Epoch 284 Batch   16/26   train_loss = 3.038\n",
      "Epoch 286 Batch   14/26   train_loss = 2.929\n",
      "Epoch 288 Batch   12/26   train_loss = 3.004\n",
      "Epoch 290 Batch   10/26   train_loss = 2.916\n",
      "Epoch 292 Batch    8/26   train_loss = 2.851\n",
      "Epoch 294 Batch    6/26   train_loss = 2.883\n",
      "Epoch 296 Batch    4/26   train_loss = 2.975\n",
      "Epoch 298 Batch    2/26   train_loss = 2.951\n",
      "Epoch 300 Batch    0/26   train_loss = 2.842\n",
      "Epoch 301 Batch   24/26   train_loss = 2.987\n",
      "Epoch 303 Batch   22/26   train_loss = 2.977\n",
      "Epoch 305 Batch   20/26   train_loss = 2.897\n",
      "Epoch 307 Batch   18/26   train_loss = 2.977\n",
      "Epoch 309 Batch   16/26   train_loss = 3.036\n",
      "Epoch 311 Batch   14/26   train_loss = 2.930\n",
      "Epoch 313 Batch   12/26   train_loss = 3.015\n",
      "Epoch 315 Batch   10/26   train_loss = 3.181\n",
      "Epoch 317 Batch    8/26   train_loss = 4.503\n",
      "Epoch 319 Batch    6/26   train_loss = 4.233\n",
      "Epoch 321 Batch    4/26   train_loss = 3.935\n",
      "Epoch 323 Batch    2/26   train_loss = 3.584\n",
      "Epoch 325 Batch    0/26   train_loss = 3.214\n",
      "Epoch 326 Batch   24/26   train_loss = 3.236\n",
      "Epoch 328 Batch   22/26   train_loss = 3.153\n",
      "Epoch 330 Batch   20/26   train_loss = 2.999\n",
      "Epoch 332 Batch   18/26   train_loss = 3.041\n",
      "Epoch 334 Batch   16/26   train_loss = 3.081\n",
      "Epoch 336 Batch   14/26   train_loss = 2.960\n",
      "Epoch 338 Batch   12/26   train_loss = 3.042\n",
      "Epoch 340 Batch   10/26   train_loss = 2.939\n",
      "Epoch 342 Batch    8/26   train_loss = 2.884\n",
      "Epoch 344 Batch    6/26   train_loss = 2.907\n",
      "Epoch 346 Batch    4/26   train_loss = 2.977\n",
      "Epoch 348 Batch    2/26   train_loss = 2.947\n",
      "Epoch 350 Batch    0/26   train_loss = 2.844\n"
     ]
    },
    {
     "name": "stdout",
     "output_type": "stream",
     "text": [
      "Epoch 351 Batch   24/26   train_loss = 3.002\n",
      "Epoch 353 Batch   22/26   train_loss = 2.995\n",
      "Epoch 355 Batch   20/26   train_loss = 2.908\n",
      "Epoch 357 Batch   18/26   train_loss = 2.981\n",
      "Epoch 359 Batch   16/26   train_loss = 3.039\n",
      "Epoch 361 Batch   14/26   train_loss = 2.929\n",
      "Epoch 363 Batch   12/26   train_loss = 3.013\n",
      "Epoch 365 Batch   10/26   train_loss = 2.918\n",
      "Epoch 367 Batch    8/26   train_loss = 2.863\n",
      "Epoch 369 Batch    6/26   train_loss = 2.890\n",
      "Epoch 371 Batch    4/26   train_loss = 2.962\n",
      "Epoch 373 Batch    2/26   train_loss = 2.934\n",
      "Epoch 375 Batch    0/26   train_loss = 2.833\n",
      "Epoch 376 Batch   24/26   train_loss = 2.991\n",
      "Epoch 378 Batch   22/26   train_loss = 2.986\n",
      "Epoch 380 Batch   20/26   train_loss = 2.900\n",
      "Epoch 382 Batch   18/26   train_loss = 2.974\n",
      "Epoch 384 Batch   16/26   train_loss = 3.033\n",
      "Epoch 386 Batch   14/26   train_loss = 2.921\n",
      "Epoch 388 Batch   12/26   train_loss = 3.006\n",
      "Epoch 390 Batch   10/26   train_loss = 2.912\n",
      "Epoch 392 Batch    8/26   train_loss = 2.857\n",
      "Epoch 394 Batch    6/26   train_loss = 2.885\n",
      "Epoch 396 Batch    4/26   train_loss = 2.957\n",
      "Epoch 398 Batch    2/26   train_loss = 2.929\n",
      "Epoch 400 Batch    0/26   train_loss = 2.831\n",
      "Epoch 401 Batch   24/26   train_loss = 2.989\n",
      "Epoch 403 Batch   22/26   train_loss = 2.985\n",
      "Epoch 405 Batch   20/26   train_loss = 2.904\n",
      "Epoch 407 Batch   18/26   train_loss = 3.005\n",
      "Epoch 409 Batch   16/26   train_loss = 3.644\n",
      "Epoch 411 Batch   14/26   train_loss = 4.391\n",
      "Epoch 413 Batch   12/26   train_loss = 4.150\n",
      "Epoch 415 Batch   10/26   train_loss = 3.778\n",
      "Epoch 417 Batch    8/26   train_loss = 3.402\n",
      "Epoch 419 Batch    6/26   train_loss = 3.241\n",
      "Epoch 421 Batch    4/26   train_loss = 3.200\n",
      "Epoch 423 Batch    2/26   train_loss = 3.050\n",
      "Epoch 425 Batch    0/26   train_loss = 2.896\n",
      "Epoch 426 Batch   24/26   train_loss = 3.031\n",
      "Epoch 428 Batch   22/26   train_loss = 3.012\n",
      "Epoch 430 Batch   20/26   train_loss = 2.946\n",
      "Epoch 432 Batch   18/26   train_loss = 2.998\n",
      "Epoch 434 Batch   16/26   train_loss = 3.028\n",
      "Epoch 436 Batch   14/26   train_loss = 2.927\n",
      "Epoch 438 Batch   12/26   train_loss = 2.989\n",
      "Epoch 440 Batch   10/26   train_loss = 2.908\n",
      "Epoch 442 Batch    8/26   train_loss = 2.870\n",
      "Epoch 444 Batch    6/26   train_loss = 2.896\n",
      "Epoch 446 Batch    4/26   train_loss = 2.981\n",
      "Epoch 448 Batch    2/26   train_loss = 2.922\n",
      "Epoch 450 Batch    0/26   train_loss = 2.819\n",
      "Epoch 451 Batch   24/26   train_loss = 2.985\n",
      "Epoch 453 Batch   22/26   train_loss = 2.976\n",
      "Epoch 455 Batch   20/26   train_loss = 2.918\n",
      "Epoch 457 Batch   18/26   train_loss = 2.976\n",
      "Epoch 459 Batch   16/26   train_loss = 3.010\n",
      "Epoch 461 Batch   14/26   train_loss = 2.912\n",
      "Epoch 463 Batch   12/26   train_loss = 2.973\n",
      "Epoch 465 Batch   10/26   train_loss = 2.896\n",
      "Epoch 467 Batch    8/26   train_loss = 2.858\n",
      "Epoch 469 Batch    6/26   train_loss = 2.886\n",
      "Epoch 471 Batch    4/26   train_loss = 2.971\n",
      "Epoch 473 Batch    2/26   train_loss = 2.914\n",
      "Epoch 475 Batch    0/26   train_loss = 2.810\n",
      "Epoch 476 Batch   24/26   train_loss = 2.978\n",
      "Epoch 478 Batch   22/26   train_loss = 2.969\n",
      "Epoch 480 Batch   20/26   train_loss = 2.912\n",
      "Epoch 482 Batch   18/26   train_loss = 2.972\n",
      "Epoch 484 Batch   16/26   train_loss = 3.004\n",
      "Epoch 486 Batch   14/26   train_loss = 2.907\n",
      "Epoch 488 Batch   12/26   train_loss = 2.969\n",
      "Epoch 490 Batch   10/26   train_loss = 2.892\n",
      "Epoch 492 Batch    8/26   train_loss = 2.853\n",
      "Epoch 494 Batch    6/26   train_loss = 2.882\n",
      "Epoch 496 Batch    4/26   train_loss = 2.968\n",
      "Epoch 498 Batch    2/26   train_loss = 2.910\n",
      "Model Trained and Saved\n"
     ]
    }
   ],
   "source": [
    "\"\"\"\n",
    "DON'T MODIFY ANYTHING IN THIS CELL\n",
    "\"\"\"\n",
    "batches = get_batches(int_text, batch_size, seq_length)\n",
    "\n",
    "with tf.Session(graph=train_graph) as sess:\n",
    "    sess.run(tf.global_variables_initializer())\n",
    "\n",
    "    for epoch_i in range(num_epochs):\n",
    "        state = sess.run(initial_state, {input_text: batches[0][0]})\n",
    "\n",
    "        for batch_i, (x, y) in enumerate(batches):\n",
    "            feed = {\n",
    "                input_text: x,\n",
    "                targets: y,\n",
    "                initial_state: state,\n",
    "                lr: learning_rate}\n",
    "            train_loss, state, _ = sess.run([cost, final_state, train_op], feed)\n",
    "\n",
    "            # Show every <show_every_n_batches> batches\n",
    "            if (epoch_i * len(batches) + batch_i) % show_every_n_batches == 0:\n",
    "                print('Epoch {:>3} Batch {:>4}/{}   train_loss = {:.3f}'.format(\n",
    "                    epoch_i,\n",
    "                    batch_i,\n",
    "                    len(batches),\n",
    "                    train_loss))\n",
    "\n",
    "    # Save Model\n",
    "    saver = tf.train.Saver()\n",
    "    saver.save(sess, save_dir)\n",
    "    print('Model Trained and Saved')"
   ]
  },
  {
   "cell_type": "markdown",
   "metadata": {},
   "source": [
    "## Save Parameters\n",
    "Save `seq_length` and `save_dir` for generating a new TV script."
   ]
  },
  {
   "cell_type": "code",
   "execution_count": 43,
   "metadata": {},
   "outputs": [],
   "source": [
    "\"\"\"\n",
    "DON'T MODIFY ANYTHING IN THIS CELL\n",
    "\"\"\"\n",
    "# Save parameters for checkpoint\n",
    "helper.save_params((seq_length, save_dir))"
   ]
  },
  {
   "cell_type": "markdown",
   "metadata": {},
   "source": [
    "# Checkpoint"
   ]
  },
  {
   "cell_type": "code",
   "execution_count": 44,
   "metadata": {},
   "outputs": [],
   "source": [
    "\"\"\"\n",
    "DON'T MODIFY ANYTHING IN THIS CELL\n",
    "\"\"\"\n",
    "import tensorflow as tf\n",
    "import numpy as np\n",
    "import helper\n",
    "import problem_unittests as tests\n",
    "\n",
    "_, vocab_to_int, int_to_vocab, token_dict = helper.load_preprocess()\n",
    "seq_length, load_dir = helper.load_params()"
   ]
  },
  {
   "cell_type": "markdown",
   "metadata": {},
   "source": [
    "## Implement Generate Functions\n",
    "### Get Tensors\n",
    "Get tensors from `loaded_graph` using the function [`get_tensor_by_name()`](https://www.tensorflow.org/api_docs/python/tf/Graph#get_tensor_by_name).  Get the tensors using the following names:\n",
    "- \"input:0\"\n",
    "- \"initial_state:0\"\n",
    "- \"final_state:0\"\n",
    "- \"probs:0\"\n",
    "\n",
    "Return the tensors in the following tuple `(InputTensor, InitialStateTensor, FinalStateTensor, ProbsTensor)` "
   ]
  },
  {
   "cell_type": "code",
   "execution_count": 45,
   "metadata": {},
   "outputs": [
    {
     "name": "stdout",
     "output_type": "stream",
     "text": [
      "Tests Passed\n"
     ]
    }
   ],
   "source": [
    "def get_tensors(loaded_graph):\n",
    "    \"\"\"\n",
    "    Get input, initial state, final state, and probabilities tensor from <loaded_graph>\n",
    "    :param loaded_graph: TensorFlow graph loaded from file\n",
    "    :return: Tuple (InputTensor, InitialStateTensor, FinalStateTensor, ProbsTensor)\n",
    "    \"\"\"\n",
    "    input_text = loaded_graph.get_tensor_by_name('input:0')\n",
    "    initial_state = loaded_graph.get_tensor_by_name('initial_state:0')\n",
    "    final_state = loaded_graph.get_tensor_by_name('final_state:0')\n",
    "    probs = loaded_graph.get_tensor_by_name('probs:0')\n",
    "    \n",
    "    return input_text, initial_state, final_state, probs\n",
    "\n",
    "\n",
    "\"\"\"\n",
    "DON'T MODIFY ANYTHING IN THIS CELL THAT IS BELOW THIS LINE\n",
    "\"\"\"\n",
    "tests.test_get_tensors(get_tensors)"
   ]
  },
  {
   "cell_type": "markdown",
   "metadata": {},
   "source": [
    "### Choose Word\n",
    "Implement the `pick_word()` function to select the next word using `probabilities`."
   ]
  },
  {
   "cell_type": "code",
   "execution_count": 46,
   "metadata": {},
   "outputs": [
    {
     "name": "stdout",
     "output_type": "stream",
     "text": [
      "Tests Passed\n"
     ]
    }
   ],
   "source": [
    "def pick_word(probabilities, int_to_vocab):\n",
    "    \"\"\"\n",
    "    Pick the next word in the generated text\n",
    "    :param probabilities: Probabilites of the next word\n",
    "    :param int_to_vocab: Dictionary of word ids as the keys and words as the values\n",
    "    :return: String of the predicted word\n",
    "    \"\"\"\n",
    "    p = probabilities.ravel()\n",
    "    ix = np.arange(len(int_to_vocab))\n",
    "    word = int_to_vocab[np.random.choice(ix, p=p)]\n",
    "    return word\n",
    "\n",
    "\n",
    "\"\"\"\n",
    "DON'T MODIFY ANYTHING IN THIS CELL THAT IS BELOW THIS LINE\n",
    "\"\"\"\n",
    "tests.test_pick_word(pick_word)"
   ]
  },
  {
   "cell_type": "markdown",
   "metadata": {},
   "source": [
    "## Generate TV Script\n",
    "This will generate the TV script for you.  Set `gen_length` to the length of TV script you want to generate."
   ]
  },
  {
   "cell_type": "code",
   "execution_count": 47,
   "metadata": {},
   "outputs": [
    {
     "name": "stdout",
     "output_type": "stream",
     "text": [
      "INFO:tensorflow:Restoring parameters from ./save\n",
      "moe_szyslak:(too big) magazine no liar it!\n",
      "moe_szyslak: horrible hyahh! to ignorant! fox!\n",
      "moe_szyslak: dials, remember homer, what woman you doing comedies, homer, gardens) your gently) see, homer, i got shard out wake a afraid!\n",
      "steal wouldn't drinking sending kid.\n",
      "homer_simpson:(prove return there. travel venom public malfeasance our eatin' dutch.\n",
      "barney_gumble: sneak reads) ah, maybe they do could empty to involved flame!\n",
      "moe_szyslak: yeah, that kemi i him breaking out of the cashin' of my already.\n",
      "shaker, place, discussing trip... a never was jay: today's an\n",
      "\n",
      "\n",
      "carl_carlson:(through spellbinding) umm dang... cheery intelligent. and distract destroyed whoops.(science mathis) hey, moe! you should!\n",
      "homer_simpson: i unjustly louie: gotten s'cuse steam b.\n",
      "homer_simpson: the hat.\n",
      "sponge(hitchhike. passion. it isotopes?\n",
      "barney_gumble: bill_james:.\n",
      "vacations sack design.\n",
      "homer_simpson:(sad) i don't know. you're gluten.\n"
     ]
    }
   ],
   "source": [
    "gen_length = 200\n",
    "# homer_simpson, moe_szyslak, or Barney_Gumble\n",
    "prime_word = 'moe_szyslak'\n",
    "\n",
    "\"\"\"\n",
    "DON'T MODIFY ANYTHING IN THIS CELL THAT IS BELOW THIS LINE\n",
    "\"\"\"\n",
    "loaded_graph = tf.Graph()\n",
    "with tf.Session(graph=loaded_graph) as sess:\n",
    "    # Load saved model\n",
    "    loader = tf.train.import_meta_graph(load_dir + '.meta')\n",
    "    loader.restore(sess, load_dir)\n",
    "\n",
    "    # Get Tensors from loaded model\n",
    "    input_text, initial_state, final_state, probs = get_tensors(loaded_graph)\n",
    "\n",
    "    # Sentences generation setup\n",
    "    gen_sentences = [prime_word + ':']\n",
    "    prev_state = sess.run(initial_state, {input_text: np.array([[1]])})\n",
    "\n",
    "    # Generate sentences\n",
    "    for n in range(gen_length):\n",
    "        # Dynamic Input\n",
    "        dyn_input = [[vocab_to_int[word] for word in gen_sentences[-seq_length:]]]\n",
    "        dyn_seq_length = len(dyn_input[0])\n",
    "\n",
    "        # Get Prediction\n",
    "        probabilities, prev_state = sess.run(\n",
    "            [probs, final_state],\n",
    "            {input_text: dyn_input, initial_state: prev_state})\n",
    "        \n",
    "        pred_word = pick_word(probabilities[dyn_seq_length-1], int_to_vocab)\n",
    "\n",
    "        gen_sentences.append(pred_word)\n",
    "    \n",
    "    # Remove tokens\n",
    "    tv_script = ' '.join(gen_sentences)\n",
    "    for key, token in token_dict.items():\n",
    "        ending = ' ' if key in ['\\n', '(', '\"'] else ''\n",
    "        tv_script = tv_script.replace(' ' + token.lower(), key)\n",
    "    tv_script = tv_script.replace('\\n ', '\\n')\n",
    "    tv_script = tv_script.replace('( ', '(')\n",
    "        \n",
    "    print(tv_script)"
   ]
  },
  {
   "cell_type": "markdown",
   "metadata": {},
   "source": [
    "# The TV Script is Nonsensical\n",
    "It's ok if the TV script doesn't make any sense.  We trained on less than a megabyte of text.  In order to get good results, you'll have to use a smaller vocabulary or get more data.  Luckly there's more data!  As we mentioned in the begging of this project, this is a subset of [another dataset](https://www.kaggle.com/wcukierski/the-simpsons-by-the-data).  We didn't have you train on all the data, because that would take too long.  However, you are free to train your neural network on all the data.  After you complete the project, of course.\n",
    "# Submitting This Project\n",
    "When submitting this project, make sure to run all the cells before saving the notebook. Save the notebook file as \"dlnd_tv_script_generation.ipynb\" and save it as a HTML file under \"File\" -> \"Download as\". Include the \"helper.py\" and \"problem_unittests.py\" files in your submission."
   ]
  }
 ],
 "metadata": {
  "kernelspec": {
   "display_name": "Python 3",
   "language": "python",
   "name": "python3"
  },
  "language_info": {
   "codemirror_mode": {
    "name": "ipython",
    "version": 3
   },
   "file_extension": ".py",
   "mimetype": "text/x-python",
   "name": "python",
   "nbconvert_exporter": "python",
   "pygments_lexer": "ipython3",
   "version": "3.6.3"
  },
  "widgets": {
   "state": {},
   "version": "1.1.2"
  }
 },
 "nbformat": 4,
 "nbformat_minor": 1
}
